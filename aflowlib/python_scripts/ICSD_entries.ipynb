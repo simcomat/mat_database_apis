{
 "cells": [
  {
   "cell_type": "code",
   "execution_count": 1,
   "metadata": {},
   "outputs": [],
   "source": [
    "from urllib.request import urlopen\n",
    "import json\n",
    "import os\n",
    "import time"
   ]
  },
  {
   "cell_type": "code",
   "execution_count": 2,
   "metadata": {},
   "outputs": [],
   "source": [
    "def get_entries(url):\n",
    "    '''Requests json to the url'''\n",
    "    url += \"?format=json\"\n",
    "    # print(url)\n",
    "    with urlopen(url) as response:\n",
    "        source = response.read()\n",
    "    # convert string (source) to dict\n",
    "    data = json.loads(source)\n",
    "    \n",
    "    return data['aflowlib_entries'].values()"
   ]
  },
  {
   "cell_type": "code",
   "execution_count": 3,
   "metadata": {},
   "outputs": [],
   "source": [
    "def write_entries_to_files(entries, group):\n",
    "    '''Writes the list entries to the general and to the group file '''\n",
    "    folder = './ENTRIES'\n",
    "    if not os.path.exists(folder):\n",
    "        os.makedirs(folder)\n",
    "    # writing to the general file\n",
    "    with open('./ENTRIES/general.csv', 'a') as output:\n",
    "        for item in entries:\n",
    "            output.write(f'\\n{item}')\n",
    "    \n",
    "    # writing to the group file\n",
    "    with open(f'./ENTRIES/{group}.csv', 'w') as output:\n",
    "        for item in entries:\n",
    "            output.write(f'\\n{item}')"
   ]
  },
  {
   "cell_type": "code",
   "execution_count": null,
   "metadata": {},
   "outputs": [],
   "source": [
    "server = \"http://aflowlib.duke.edu/AFLOWDATA/ICSD_WEB\"\n",
    "group_list = \"BCC BCT CUB FCC HEX MCL MCLC ORC ORCC ORCF ORCI RHL TET TRI\".split()\n",
    "\n",
    "t0 = time.time()\n",
    "total_entries = 0\n",
    "\n",
    "for group in group_list:\n",
    "    \n",
    "    print(f\"{group} >> Getting {group} entries from ICSD_WEB.\")\n",
    "    t_i = time.time()\n",
    "    \n",
    "    url = f\"{server}/{group}\"\n",
    "    entries = get_entries(url)\n",
    "    \n",
    "    n_entries = len(entries)\n",
    "    print(f\"{group} >> Writing {n_entries} entries to {group}.dat and appending to general.dat.\")\n",
    "    total_entries += n_entries\n",
    "    \n",
    "    write_entries_to_files(entries, group)\n",
    "    \n",
    "    delta = round(time.time() - t_i, 2)\n",
    "    print(f\"{group} >> Done. It took {delta} seconds.\\n\")\n",
    "    \n",
    "total_time = (time.time() - t0)/60\n",
    "print(f\"\\nTotal number of entries: {total_entries}.\")\n",
    "print(f\"Total time spent: {round(total_time,2)} minutes.\")"
   ]
  }
 ],
 "metadata": {
  "kernelspec": {
   "display_name": "Python 3",
   "language": "python",
   "name": "python3"
  },
  "language_info": {
   "codemirror_mode": {
    "name": "ipython",
    "version": 3
   },
   "file_extension": ".py",
   "mimetype": "text/x-python",
   "name": "python",
   "nbconvert_exporter": "python",
   "pygments_lexer": "ipython3",
   "version": "3.6.5"
  }
 },
 "nbformat": 4,
 "nbformat_minor": 2
}
