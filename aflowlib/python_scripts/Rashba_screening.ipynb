{
 "cells": [
  {
   "cell_type": "code",
   "execution_count": 2,
   "metadata": {},
   "outputs": [],
   "source": [
    "import pandas as pd\n",
    "import numpy as np\n",
    "import math"
   ]
  },
  {
   "cell_type": "markdown",
   "metadata": {},
   "source": [
    "#### Openning the csv file with all the entries"
   ]
  },
  {
   "cell_type": "code",
   "execution_count": 3,
   "metadata": {},
   "outputs": [
    {
     "data": {
      "text/plain": [
       "(58276, 101)"
      ]
     },
     "execution_count": 3,
     "metadata": {},
     "output_type": "execute_result"
    }
   ],
   "source": [
    "df = pd.read_csv('ICSD_WEB_prop2.csv')\n",
    "df.shape"
   ]
  },
  {
   "cell_type": "markdown",
   "metadata": {},
   "source": [
    "#### Creating column 'empty' (it is True for empty entries)"
   ]
  },
  {
   "cell_type": "code",
   "execution_count": 4,
   "metadata": {},
   "outputs": [],
   "source": [
    "df['empty'] = df['PV_atom'].apply(math.isnan)"
   ]
  },
  {
   "cell_type": "code",
   "execution_count": 5,
   "metadata": {},
   "outputs": [
    {
     "data": {
      "text/plain": [
       "(640, 102)"
      ]
     },
     "execution_count": 5,
     "metadata": {},
     "output_type": "execute_result"
    }
   ],
   "source": [
    "empty = df[df['empty'] == True]\n",
    "empty.shape"
   ]
  },
  {
   "cell_type": "markdown",
   "metadata": {},
   "source": [
    "#### Getting all the non empty entries and assigning it to df0"
   ]
  },
  {
   "cell_type": "code",
   "execution_count": 6,
   "metadata": {},
   "outputs": [
    {
     "data": {
      "text/plain": [
       "(57636, 102)"
      ]
     },
     "execution_count": 6,
     "metadata": {},
     "output_type": "execute_result"
    }
   ],
   "source": [
    "df0 = df[df['empty'] == False]\n",
    "del df\n",
    "df0.shape"
   ]
  },
  {
   "cell_type": "markdown",
   "metadata": {},
   "source": [
    "#### Setting index to the prototype col"
   ]
  },
  {
   "cell_type": "code",
   "execution_count": 7,
   "metadata": {},
   "outputs": [
    {
     "data": {
      "text/html": [
       "<div>\n",
       "<style scoped>\n",
       "    .dataframe tbody tr th:only-of-type {\n",
       "        vertical-align: middle;\n",
       "    }\n",
       "\n",
       "    .dataframe tbody tr th {\n",
       "        vertical-align: top;\n",
       "    }\n",
       "\n",
       "    .dataframe thead th {\n",
       "        text-align: right;\n",
       "    }\n",
       "</style>\n",
       "<table border=\"1\" class=\"dataframe\">\n",
       "  <thead>\n",
       "    <tr style=\"text-align: right;\">\n",
       "      <th></th>\n",
       "      <th>compound</th>\n",
       "      <th>Bravais_lattice_orig</th>\n",
       "      <th>Bravais_lattice_relax</th>\n",
       "      <th>Egap</th>\n",
       "      <th>Egap_fit</th>\n",
       "      <th>Egap_type</th>\n",
       "      <th>PV_atom</th>\n",
       "      <th>PV_cell</th>\n",
       "      <th>Pearson_symbol_orig</th>\n",
       "      <th>Pearson_symbol_relax</th>\n",
       "      <th>...</th>\n",
       "      <th>spin_atom</th>\n",
       "      <th>spin_cell</th>\n",
       "      <th>stoich</th>\n",
       "      <th>stoichiometry</th>\n",
       "      <th>stress_tensor</th>\n",
       "      <th>valence_cell_iupac</th>\n",
       "      <th>valence_cell_std</th>\n",
       "      <th>volume_atom</th>\n",
       "      <th>volume_cell</th>\n",
       "      <th>empty</th>\n",
       "    </tr>\n",
       "    <tr>\n",
       "      <th>prototype</th>\n",
       "      <th></th>\n",
       "      <th></th>\n",
       "      <th></th>\n",
       "      <th></th>\n",
       "      <th></th>\n",
       "      <th></th>\n",
       "      <th></th>\n",
       "      <th></th>\n",
       "      <th></th>\n",
       "      <th></th>\n",
       "      <th></th>\n",
       "      <th></th>\n",
       "      <th></th>\n",
       "      <th></th>\n",
       "      <th></th>\n",
       "      <th></th>\n",
       "      <th></th>\n",
       "      <th></th>\n",
       "      <th></th>\n",
       "      <th></th>\n",
       "      <th></th>\n",
       "    </tr>\n",
       "  </thead>\n",
       "  <tbody>\n",
       "    <tr>\n",
       "      <th>Ag1F6Sb1_ICSD_28676</th>\n",
       "      <td>Ag4F24Sb4</td>\n",
       "      <td>BCC</td>\n",
       "      <td>BCC</td>\n",
       "      <td>3.3742</td>\n",
       "      <td>5.46142</td>\n",
       "      <td>insulator_direct</td>\n",
       "      <td>0.0</td>\n",
       "      <td>0.0</td>\n",
       "      <td>cI64</td>\n",
       "      <td>cI64</td>\n",
       "      <td>...</td>\n",
       "      <td>0.0</td>\n",
       "      <td>0.0</td>\n",
       "      <td>0.1250   0.7500   0.1250</td>\n",
       "      <td>0.125,0.75,0.125</td>\n",
       "      <td>0.8,-0,0,-0,0.8,-0,0,-0,0.8</td>\n",
       "      <td>60.0</td>\n",
       "      <td>232.0</td>\n",
       "      <td>15.5297</td>\n",
       "      <td>496.951</td>\n",
       "      <td>False</td>\n",
       "    </tr>\n",
       "  </tbody>\n",
       "</table>\n",
       "<p>1 rows × 101 columns</p>\n",
       "</div>"
      ],
      "text/plain": [
       "                      compound Bravais_lattice_orig Bravais_lattice_relax  \\\n",
       "prototype                                                                   \n",
       "Ag1F6Sb1_ICSD_28676  Ag4F24Sb4                  BCC                   BCC   \n",
       "\n",
       "                       Egap  Egap_fit         Egap_type  PV_atom  PV_cell  \\\n",
       "prototype                                                                   \n",
       "Ag1F6Sb1_ICSD_28676  3.3742   5.46142  insulator_direct      0.0      0.0   \n",
       "\n",
       "                    Pearson_symbol_orig Pearson_symbol_relax  ...    \\\n",
       "prototype                                                     ...     \n",
       "Ag1F6Sb1_ICSD_28676                cI64                 cI64  ...     \n",
       "\n",
       "                     spin_atom  spin_cell                    stoich  \\\n",
       "prototype                                                             \n",
       "Ag1F6Sb1_ICSD_28676        0.0        0.0  0.1250   0.7500   0.1250   \n",
       "\n",
       "                        stoichiometry                stress_tensor  \\\n",
       "prototype                                                            \n",
       "Ag1F6Sb1_ICSD_28676  0.125,0.75,0.125  0.8,-0,0,-0,0.8,-0,0,-0,0.8   \n",
       "\n",
       "                     valence_cell_iupac  valence_cell_std  volume_atom  \\\n",
       "prototype                                                                \n",
       "Ag1F6Sb1_ICSD_28676                60.0             232.0      15.5297   \n",
       "\n",
       "                     volume_cell  empty  \n",
       "prototype                                \n",
       "Ag1F6Sb1_ICSD_28676      496.951  False  \n",
       "\n",
       "[1 rows x 101 columns]"
      ]
     },
     "execution_count": 7,
     "metadata": {},
     "output_type": "execute_result"
    }
   ],
   "source": [
    "df0.set_index('prototype', inplace=True)\n",
    "df0.head(1)"
   ]
  },
  {
   "cell_type": "markdown",
   "metadata": {},
   "source": [
    "#### Filtering nspecies = 20"
   ]
  },
  {
   "cell_type": "code",
   "execution_count": 9,
   "metadata": {},
   "outputs": [
    {
     "data": {
      "text/plain": [
       "(21678, 101)"
      ]
     },
     "execution_count": 9,
     "metadata": {},
     "output_type": "execute_result"
    }
   ],
   "source": [
    "df1 = df0[df0['nspecies'] == 2.0]\n",
    "df1.shape"
   ]
  },
  {
   "cell_type": "markdown",
   "metadata": {},
   "source": [
    "#### Creating a list with the centersymmetric groups"
   ]
  },
  {
   "cell_type": "code",
   "execution_count": 15,
   "metadata": {},
   "outputs": [
    {
     "name": "stdout",
     "output_type": "stream",
     "text": [
      "[2, 10, 11, 12, 13, 14, 15, 47, 48, 49, 50, 51, 52, 53, 54, 55, 56, 57, 58, 59, 60, 61, 62, 63, 64, 65, 66, 67, 68, 69, 70, 71, 72, 73, 74, 83, 84, 85, 86, 87, 88, 123, 124, 125, 126, 127, 128, 129, 130, 131, 132, 133, 134, 135, 136, 137, 138, 139, 140, 141, 142, 147, 148, 162, 163, 164, 165, 166, 167, 175, 176, 191, 192, 193, 194, 200, 201, 202, 203, 204, 205, 206, 221, 222, 223, 224, 225, 226, 227, 228, 229, 230]\n"
     ]
    }
   ],
   "source": [
    "group_ranges = [[2],\n",
    "          list(range(10, 16)),\n",
    "         list(range(47, 75)),\n",
    "         list(range(83, 89)),\n",
    "         list(range(123, 143)),\n",
    "         [147, 148],\n",
    "         list(range(162, 168)),\n",
    "         [175, 176],\n",
    "         list(range(191, 195)),\n",
    "         list(range(200, 207)),\n",
    "         list(range(221, 231))]\n",
    "\n",
    "centersym = []\n",
    "\n",
    "for l in group_ranges:\n",
    "    centersym += l\n",
    "    \n",
    "print(centersym)"
   ]
  },
  {
   "cell_type": "markdown",
   "metadata": {},
   "source": [
    "#### Converting values of col 'spacegroup_relax' to integer"
   ]
  },
  {
   "cell_type": "code",
   "execution_count": 16,
   "metadata": {},
   "outputs": [
    {
     "name": "stderr",
     "output_type": "stream",
     "text": [
      "/home/elton/.local/lib/python3.6/site-packages/ipykernel_launcher.py:1: SettingWithCopyWarning: \n",
      "A value is trying to be set on a copy of a slice from a DataFrame.\n",
      "Try using .loc[row_indexer,col_indexer] = value instead\n",
      "\n",
      "See the caveats in the documentation: http://pandas.pydata.org/pandas-docs/stable/indexing.html#indexing-view-versus-copy\n",
      "  \"\"\"Entry point for launching an IPython kernel.\n"
     ]
    }
   ],
   "source": [
    "df1['spacegroup_relax'] = df1['spacegroup_relax'].apply(int)"
   ]
  },
  {
   "cell_type": "markdown",
   "metadata": {},
   "source": [
    "#### Creating col 'centersymmetry' (True for values in list centrosym)"
   ]
  },
  {
   "cell_type": "code",
   "execution_count": 18,
   "metadata": {},
   "outputs": [
    {
     "name": "stderr",
     "output_type": "stream",
     "text": [
      "/home/elton/.local/lib/python3.6/site-packages/ipykernel_launcher.py:2: SettingWithCopyWarning: \n",
      "A value is trying to be set on a copy of a slice from a DataFrame.\n",
      "Try using .loc[row_indexer,col_indexer] = value instead\n",
      "\n",
      "See the caveats in the documentation: http://pandas.pydata.org/pandas-docs/stable/indexing.html#indexing-view-versus-copy\n",
      "  \n"
     ]
    }
   ],
   "source": [
    "is_sym = lambda x: x in centrosym\n",
    "df1['centersymmetry'] = df1['spacegroup_relax'].apply(is_sym)"
   ]
  },
  {
   "cell_type": "markdown",
   "metadata": {},
   "source": [
    "#### Filtering Centersymmetry = False"
   ]
  },
  {
   "cell_type": "code",
   "execution_count": 19,
   "metadata": {},
   "outputs": [
    {
     "data": {
      "text/plain": [
       "(3065, 102)"
      ]
     },
     "execution_count": 19,
     "metadata": {},
     "output_type": "execute_result"
    }
   ],
   "source": [
    "df2 = df1[df1['centersymmetry'] == False]\n",
    "df2.shape"
   ]
  },
  {
   "cell_type": "markdown",
   "metadata": {},
   "source": [
    "#### Filtering spin cell = 0"
   ]
  },
  {
   "cell_type": "code",
   "execution_count": 20,
   "metadata": {},
   "outputs": [
    {
     "data": {
      "text/plain": [
       "(2600, 102)"
      ]
     },
     "execution_count": 20,
     "metadata": {},
     "output_type": "execute_result"
    }
   ],
   "source": [
    "df3 = df2[df2['spin_cell'] == 0.0]\n",
    "df3.shape"
   ]
  },
  {
   "cell_type": "markdown",
   "metadata": {},
   "source": [
    "#### Filtering Egap type = insulator direct to df4_DIR"
   ]
  },
  {
   "cell_type": "code",
   "execution_count": 30,
   "metadata": {},
   "outputs": [
    {
     "data": {
      "text/plain": [
       "(1463, 102)"
      ]
     },
     "execution_count": 30,
     "metadata": {},
     "output_type": "execute_result"
    }
   ],
   "source": [
    "df4_DIR = df3[(df3['Egap_type'] == 'insulator_direct') |\n",
    "         (df3['Egap_type'] == 'insulator-direct')]\n",
    "df4_DIR.shape"
   ]
  },
  {
   "cell_type": "markdown",
   "metadata": {},
   "source": [
    "#### Filtering Egap type = insulator indirect to df4_IND"
   ]
  },
  {
   "cell_type": "code",
   "execution_count": 32,
   "metadata": {},
   "outputs": [
    {
     "data": {
      "text/plain": [
       "(153, 102)"
      ]
     },
     "execution_count": 32,
     "metadata": {},
     "output_type": "execute_result"
    }
   ],
   "source": [
    "df4_IND = df3[(df3['Egap_type'] == 'insulator_indirect') |\n",
    "             (df3['Egap_type'] == 'insulator-indirect')]\n",
    "df4_IND.shape"
   ]
  },
  {
   "cell_type": "markdown",
   "metadata": {},
   "source": [
    "#### Filtering Natoms <= 20 for DIRECT insulators"
   ]
  },
  {
   "cell_type": "code",
   "execution_count": 37,
   "metadata": {},
   "outputs": [
    {
     "data": {
      "text/plain": [
       "(1164, 102)"
      ]
     },
     "execution_count": 37,
     "metadata": {},
     "output_type": "execute_result"
    }
   ],
   "source": [
    "df5_DIR_20 = df4_DIR[df4_DIR['natoms'] <= 20]\n",
    "df5_DIR_20.shape"
   ]
  },
  {
   "cell_type": "markdown",
   "metadata": {},
   "source": [
    "#### Same for INDIRECT insulators"
   ]
  },
  {
   "cell_type": "code",
   "execution_count": 40,
   "metadata": {},
   "outputs": [
    {
     "data": {
      "text/plain": [
       "(122, 102)"
      ]
     },
     "execution_count": 40,
     "metadata": {},
     "output_type": "execute_result"
    }
   ],
   "source": [
    "df5_IND_20 = df4_IND[df4_IND['natoms'] <= 20]\n",
    "df5_IND_20.shape"
   ]
  },
  {
   "cell_type": "markdown",
   "metadata": {},
   "source": [
    "#### Number of unique compounds for DIRECT insulators"
   ]
  },
  {
   "cell_type": "code",
   "execution_count": 48,
   "metadata": {},
   "outputs": [
    {
     "name": "stdout",
     "output_type": "stream",
     "text": [
      "['Be6Cl12' 'C6N8' 'C6Sc8' 'Co4U4' 'Ge6N8' 'N8Si6' 'N8Zr6' 'O12Si6' 'Ba4S6'\n",
      " 'C1I4' 'C4N8' 'C2O4' 'Cl4Zn2' 'Ga9K3' 'H8Si1' 'O8Si4' 'O4Si2' 'As4Sn3'\n",
      " 'Bi4F12' 'C4O4' 'C4Os4' 'C3N4' 'Fe4Si4' 'Ge4Ru4' 'H12N4' 'I4Sn1' 'Os4Si4'\n",
      " 'Ru4Si4' 'Ag4I4' 'Ag1I1' 'Al1N1' 'As1B1' 'As1Ga1' 'B1Bi1' 'B1N1' 'B1P1'\n",
      " 'B1Sb1' 'Be1O1' 'Be1S1' 'Be1Se1' 'Br1Cu1' 'C1Ge1' 'C1Hf1' 'C1Si1' 'C1Zr1'\n",
      " 'Ca1Se1' 'Cd1S1' 'Cd1Se1' 'Cd1Te1' 'Cl1Cu1' 'Cu1I1' 'Ga1N1' 'Ga1P1'\n",
      " 'Ge1Mn2' 'Ge1Te1' 'In1P1' 'Mg1S1' 'Mg1Se1' 'Mg1Te1' 'O1Zn1' 'P1Sc1'\n",
      " 'Pt5Pu1' 'S1Sn1' 'S1Zn1' 'Se1Zn1' 'Sn1Te1' 'Te1Zn1' 'Ag2I2' 'Al2As2'\n",
      " 'Al3F9' 'Al2N2' 'Al2P2' 'As2Ga2' 'As6Te9' 'B2N2' 'B2P2' 'B6O9' 'Ba3Cl6'\n",
      " 'Ba3I6' 'Be3F6' 'Be2O2' 'Bi8O12' 'Br4Cd2' 'Br6Hg3' 'C6Si6' 'C4Si4'\n",
      " 'C2Si2' 'C8Si8' 'C10Si10' 'Ca6P6' 'Cd6I12' 'Cd2I4' 'Cd4I8' 'Cd5I10'\n",
      " 'Cd2S2' 'Cd2Se2' 'Cd2Te2' 'Cr3Si6' 'Cu2I2' 'Cu6I6' 'Ga2N2' 'Ga2P2'\n",
      " 'Ga8Se8' 'Ga4Se4' 'Ge3O6' 'Hg3S3' 'I2Li2' 'I10Pb5' 'I4Pb2' 'I6Pb3'\n",
      " 'I8Pb4' 'I6P2' 'In2P2' 'In4Se4' 'K6S6' 'K6Se6' 'K6Te6' 'La2N2' 'Mg2O2'\n",
      " 'Mg2Se2' 'Mg2Te2' 'Mo3Si6' 'N2W1' 'Na6O6' 'Na6S6' 'O2Zn2' 'O4Pt2' 'O6Si3'\n",
      " 'O6Ti3' 'P6Sr6' 'Pb2S2' 'Rb6S6' 'Rb6Se6' 'Rb6Te6' 'S10Zn10' 'S8Zn8'\n",
      " 'S2Zn2' 'S6Zn6' 'S4Zn4' 'S4Sn2' 'Se2Zn2' 'Si6W3' 'Te2Zn2' 'Te3Zn3'\n",
      " 'Ag4S2' 'O10Te4' 'P8S10' 'Al4Se6' 'B4N4' 'Cl4O12' 'Ga4S6' 'Ga4Se6'\n",
      " 'In4Te10' 'Nb2O5' 'O4Os1' 'O5Ta2' 'As4Br12' 'As4Cl12' 'As4F12' 'As8K8'\n",
      " 'As8Na8' 'As8Rb8' 'Ba4S12' 'Bi2Cl6' 'Br12Sb4' 'Ca2F4' 'Cd4P8' 'Cl8Si4'\n",
      " 'Cl8Zn4' 'Cs8Sb8' 'F4Tl4' 'F8Ge4' 'F8Sn4' 'F16Se4' 'F16Te4' 'H16Si2'\n",
      " 'I8Zr4' 'K8P8' 'Li8S4' 'N8O12' 'Na8P8' 'O4Pb4' 'O8Se4' 'O8Te4' 'O12U4'\n",
      " 'O12Xe4' 'O10V4' 'Pb4S4' 'Rb8Sb8' 'Br2Cl2' 'Br4Hg2' 'C2N4' 'Cl2In2'\n",
      " 'Cl2N6' 'Cl4Mg2' 'Cs4S6' 'Cs8Se12' 'F14I2' 'Fe2P8' 'H8O4' 'Hg2I4'\n",
      " 'I16Nb4' 'O4Sn4' 'S6Sr2' 'As8Sr6' 'Ba6P8' 'F8Pd2' 'F8Pt2' 'Bi4O6' 'C8O8'\n",
      " 'Ga2Se2' 'In2Se2' 'Mo1S2' 'Pb1S1' 'S3Zn3' 'S5Zn5' 'S7Zn7' 'As16Mg4'\n",
      " 'Ba2S6' 'Ba2Se6' 'Ba2Te6' 'Bi2O3' 'C4O8' 'C12Os8' 'C11N4' 'Cl2Mg1'\n",
      " 'Cu8S4' 'F12Pb4' 'Ge4O8' 'Ge12Os8' 'Ge12Ru8' 'H8O8' 'In12Ru4' 'O12W4'\n",
      " 'Os8Si12' 'P16Zn4' 'Ru8Si12']\n",
      "\n",
      "Total: 237\n"
     ]
    }
   ],
   "source": [
    "print(df5_DIR_20['compound'].unique())\n",
    "print()\n",
    "print(f'Total: {len(df5_DIR_20[\"compound\"].unique())}')"
   ]
  },
  {
   "cell_type": "markdown",
   "metadata": {},
   "source": [
    "#### Number of unique compounds for INDIRECT insulators"
   ]
  },
  {
   "cell_type": "code",
   "execution_count": 49,
   "metadata": {},
   "outputs": [
    {
     "name": "stdout",
     "output_type": "stream",
     "text": [
      "['Be6F12' 'C4H4' 'F4Ge1' 'F4Si1' 'As4Cd2' 'B5H9' 'C1N2' 'C2O4' 'Ga9Rb3'\n",
      " 'Ge2S4' 'Ge2Se4' 'S4Si2' 'Al1As1' 'Al1P1' 'Al1Sb1' 'Be1Te1' 'C1Os1'\n",
      " 'C1Ru1' 'N1Y1' 'B3N3' 'B2N2' 'C5Si5' 'Cd3I6' 'Cd5I10' 'Cd6I12' 'Cd4I8'\n",
      " 'Cd3Te3' 'Ge1I2' 'Hg3O3' 'Hg3S3' 'Hg3Se3' 'Hg3Te3' 'Mg1O1' 'B8N8'\n",
      " 'Ag3P11' 'Ga4S6' 'In4Te10' 'O8Si4' 'Te6Tl4' 'Cd4P8' 'Br2F6' 'Br2F10'\n",
      " 'Br4S4' 'Br4Se4' 'Cr4O12' 'Cs4Te6' 'F6Sb2' 'K4S6' 'K4Se6' 'O4S2' 'O8Ti4'\n",
      " 'Rb4S6' 'Rb4Se6' 'Ag4O6' 'Au4O6' 'O10P4' 'N5P3' 'Be3N2' 'C8Si8' 'C9Si9'\n",
      " 'C7Si7' 'C10N8' 'Cl2Zr1' 'F3Sc1' 'Mo1Se2' 'S2W1' 'H8O8' 'O6Si3']\n",
      "\n",
      "Total: 68\n"
     ]
    }
   ],
   "source": [
    "print(df5_IND_20['compound'].unique())\n",
    "print()\n",
    "print(f'Total: {len(df5_IND_20[\"compound\"].unique())}')"
   ]
  },
  {
   "cell_type": "markdown",
   "metadata": {},
   "source": [
    "#### Saving"
   ]
  },
  {
   "cell_type": "code",
   "execution_count": 51,
   "metadata": {},
   "outputs": [],
   "source": [
    "df5_IND_20.to_csv('df5_IND_20.csv')\n",
    "df5_DIR_20.to_csv('df5_DIR_20.csv')\n",
    "df4.to_csv('df4.csv')\n",
    "df3.to_csv('df3.csv')\n",
    "df2.to_csv('df2.csv')\n",
    "df1.to_csv('df1.csv')\n",
    "df0.to_csv('df0.csv')"
   ]
  }
 ],
 "metadata": {
  "kernelspec": {
   "display_name": "Python 3",
   "language": "python",
   "name": "python3"
  },
  "language_info": {
   "codemirror_mode": {
    "name": "ipython",
    "version": 3
   },
   "file_extension": ".py",
   "mimetype": "text/x-python",
   "name": "python",
   "nbconvert_exporter": "python",
   "pygments_lexer": "ipython3",
   "version": "3.6.5"
  }
 },
 "nbformat": 4,
 "nbformat_minor": 2
}
